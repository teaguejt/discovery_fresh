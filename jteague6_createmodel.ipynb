{
 "cells": [
  {
   "cell_type": "markdown",
   "metadata": {},
   "source": [
    "#### Hypothesis: Repos with shorter descriptions are more likely to be dead than repos with long descriptions. A short description, I believe, signifies a repo that is used for a simple backup, or is a project started by an individual who got in over their head or who otherwise could not follow through with completion of the project.\n",
    "\n",
    "#### I am defining a \"dead\" repo as one that has not been updated for over a year. I believe that, the shorter the description, the greater the liklihood that the repo is dead, with repos with a single subscribers being most likely to be dead or completely unused."
   ]
  },
  {
   "cell_type": "code",
   "execution_count": null,
   "metadata": {
    "collapsed": true
   },
   "outputs": [],
   "source": [
    "import pymongo, re, datetime\n",
    "\n",
    "SECONDS_IN_YEAR = 3.154e7\n",
    "\n",
    "client = pymongo.MongoClient( 'da0.eecs.utk.edu' )\n",
    "db = client['github']\n",
    "readcoll = db['repos']\n",
    "\n",
    "date = ''\n",
    "fork = ''\n",
    "\n",
    "rec = 0\n",
    "\n",
    "for r in readcoll.find( {} ):\n",
    "    if r is None or 'values' not in r:\n",
    "        continue\n",
    "    rec += 1\n",
    "    \n",
    "print( 'number of records: ' + str( rec ) )"
   ]
  },
  {
   "cell_type": "code",
   "execution_count": null,
   "metadata": {
    "collapsed": false
   },
   "outputs": [],
   "source": [
    "import pymongo, re, datetime\n",
    "\n",
    "SECONDS_IN_YEAR = 3.154e7\n",
    "\n",
    "client = pymongo.MongoClient( 'da0.eecs.utk.edu' )\n",
    "db = client['github']\n",
    "readcoll = db['repos']\n",
    "\n",
    "date = ''\n",
    "fork = ''\n",
    "\n",
    "gho = open( 'jteague6_github', 'w' )\n",
    "\n",
    "for r in readcoll.find( {} ):\n",
    "    if r is None or 'values' not in r:\n",
    "        continue\n",
    "    for v in r['values']:\n",
    "        for vv in v.keys():\n",
    "            #print( vv )\n",
    "            #print ('values.' + vv + ':' + str(v[vv]))\n",
    "            if( vv == 'description' ):\n",
    "                if v[vv] is None:\n",
    "                    desclen = -1\n",
    "                else:\n",
    "                    desclen =  str( len( v[vv] ) )\n",
    "            elif ( vv == 'updated_at' ):\n",
    "                if v[vv] is None:\n",
    "                    dto = datetime.datetime.now()\n",
    "                else:\n",
    "                    date = str( v[vv] )\n",
    "                    idx  = date.find( 'T' )\n",
    "                #print( str( idx ) + \" \" + date[:idx] )\n",
    "                    dto = datetime.datetime.strptime(date[:idx], \"%Y-%m-%d\")\n",
    "                #print( dto )\n",
    "                #print( ( datetime.datetime.now() - dto ).total_seconds() )\n",
    "            \n",
    "    if desclen == -1:\n",
    "        continue\n",
    "        \n",
    "    gho.write( str( desclen ) + \" \" + str( ( datetime.datetime.now() - dto ).total_seconds() ) + '\\n' )\n",
    "    \n",
    "gho.close()\n",
    "print( 'done' )"
   ]
  },
  {
   "cell_type": "code",
   "execution_count": 47,
   "metadata": {
    "collapsed": false
   },
   "outputs": [
    {
     "name": "stdout",
     "output_type": "stream",
     "text": [
      "done\n"
     ]
    },
    {
     "name": "stderr",
     "output_type": "stream",
     "text": [
      "Exception ignored in: <bound method Cursor.__del__ of <pymongo.cursor.Cursor object at 0x7f002e899e80>>\n",
      "Traceback (most recent call last):\n",
      "  File \"/usr/local/lib/python3.4/dist-packages/pymongo/cursor.py\", line 211, in __del__\n",
      "    self.__die()\n",
      "  File \"/usr/local/lib/python3.4/dist-packages/pymongo/cursor.py\", line 271, in __die\n",
      "    self.__address)\n",
      "  File \"/usr/local/lib/python3.4/dist-packages/pymongo/mongo_client.py\", line 833, in close_cursor\n",
      "    self.__cursor_manager.close(cursor_id, address)\n",
      "  File \"/usr/local/lib/python3.4/dist-packages/pymongo/cursor_manager.py\", line 56, in close\n",
      "    self.__client().kill_cursors([cursor_id], address)\n",
      "AttributeError: 'NoneType' object has no attribute 'kill_cursors'\n"
     ]
    }
   ],
   "source": [
    "import pymongo, re, datetime\n",
    "\n",
    "SECONDS_IN_YEAR = 3.154e7\n",
    "\n",
    "client = pymongo.MongoClient( 'da0.eecs.utk.edu' )\n",
    "db = client['bitbucket']\n",
    "readcoll = db['repos']\n",
    "\n",
    "date = ''\n",
    "fork = ''\n",
    "\n",
    "bbo = open( 'jteague6_bitbucket', 'w' )\n",
    "\n",
    "for r in readcoll.find( {} ):\n",
    "    if r is None:\n",
    "        continue\n",
    "    for v in r.keys():\n",
    "        updated_on = datetime.datetime.now()\n",
    "        idx = -1\n",
    "        if v == 'description' and r[v]:\n",
    "            #print( 'description: ' + str( r[v] ) )\n",
    "            desclen = len( r[v] )\n",
    "            #print( 'desclen: ' + str( desclen ) )\n",
    "        elif v == 'updated_on' and r[v]:\n",
    "            #print( 'updated_on: ' + str( r[v] ) )\n",
    "            idx = r[v].find( 'T' )\n",
    "            updated_on = datetime.datetime.strptime(r[v][:idx], \"%Y-%m-%d\")\n",
    "            #print( updated_on )\n",
    "            dto = ( datetime.datetime.now() - updated_on ).total_seconds()\n",
    "    bbo.write( str( desclen ) + \" \" + '{:10.6f}'.format( dto ) + '\\n' )\n",
    "    \n",
    "bbo.close()\n",
    "print( 'done' )"
   ]
  },
  {
   "cell_type": "markdown",
   "metadata": {
    "collapsed": true
   },
   "source": [
    "Okay, so that didn't work too well. These files are huge, and R takes forever to process the information (I should have asked if there's a way to run the notebook in the background).\n",
    "\n",
    "Here I'm going to truncate each file to 25,000 records and replace any values of -1 with 0. 25,000 is still a lot, and since they're apparently not in any particular order I'm really hoping I still get good results.\n",
    "\n",
    "Also, while I'm at it, I'll convert the number of seconds to years."
   ]
  },
  {
   "cell_type": "code",
   "execution_count": 12,
   "metadata": {
    "collapsed": false
   },
   "outputs": [],
   "source": [
    "SECONDS_IN_YEAR = 3.154e7\n",
    "\n",
    "gho = open( 'jteague6_bitbucket', 'r' )\n",
    "ghot = open( 'jteague6_bitbucket_truncated', 'w' )\n",
    "\n",
    "i = 0\n",
    "for l in gho.readlines():\n",
    "    if i > 25000:\n",
    "        break\n",
    "        \n",
    "    ls = l.split()\n",
    "    desc = ls[0]\n",
    "    time = ls[1]\n",
    "    \n",
    "    if desc == -1:\n",
    "        desc = 0\n",
    "        \n",
    "    time = float(time) / SECONDS_IN_YEAR\n",
    "    \n",
    "    ghot.write( str( desc ) + \" \" + '{:10.6f}'.format( time ) + '\\n' )\n",
    "    i = i + 1"
   ]
  },
  {
   "cell_type": "code",
   "execution_count": 15,
   "metadata": {
    "collapsed": true
   },
   "outputs": [],
   "source": [
    "SECONDS_IN_YEAR = 3.154e7\n",
    "\n",
    "gho = open( 'jteague6_github', 'r' )\n",
    "ghot = open( 'jteague6_github_truncated', 'w' )\n",
    "\n",
    "i = 0\n",
    "for l in gho.readlines():\n",
    "    if i > 25000:\n",
    "        break\n",
    "        \n",
    "    ls = l.split()\n",
    "    desc = int( ls[0] )\n",
    "    time = ls[1]\n",
    "    \n",
    "    if desc == -1:\n",
    "        continue\n",
    "    \n",
    "    # I hate doing this, but 0 screws up the log calculations, so all zeroes have to be changed to ones\n",
    "    if desc == 0:\n",
    "        desc = 1;\n",
    "        \n",
    "    time = float(time) / SECONDS_IN_YEAR\n",
    "    \n",
    "    ghot.write( str( desc ) + \" \" + '{:10.6f}'.format( time ) + '\\n' )\n",
    "    i = i + 1"
   ]
  },
  {
   "cell_type": "code",
   "execution_count": null,
   "metadata": {
    "collapsed": true
   },
   "outputs": [],
   "source": []
  }
 ],
 "metadata": {
  "kernelspec": {
   "display_name": "Python 3",
   "language": "python",
   "name": "python3"
  },
  "language_info": {
   "codemirror_mode": {
    "name": "ipython",
    "version": 3
   },
   "file_extension": ".py",
   "mimetype": "text/x-python",
   "name": "python",
   "nbconvert_exporter": "python",
   "pygments_lexer": "ipython3",
   "version": "3.4.3"
  }
 },
 "nbformat": 4,
 "nbformat_minor": 0
}
